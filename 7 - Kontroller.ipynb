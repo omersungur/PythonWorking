{
 "cells": [
  {
   "cell_type": "code",
   "execution_count": 1,
   "id": "ee535982",
   "metadata": {},
   "outputs": [
    {
     "data": {
      "text/plain": [
       "False"
      ]
     },
     "execution_count": 1,
     "metadata": {},
     "output_type": "execute_result"
    }
   ],
   "source": [
    "(3 > 5) and (3 < 5)\n",
    "(3 > 5) & (3 < 5)\n",
    "\n"
   ]
  },
  {
   "cell_type": "markdown",
   "id": "f11aa55e",
   "metadata": {},
   "source": [
    "and yerine & operatörünü de kullanabiliriz"
   ]
  },
  {
   "cell_type": "code",
   "execution_count": 2,
   "id": "84a33f59",
   "metadata": {},
   "outputs": [
    {
     "data": {
      "text/plain": [
       "True"
      ]
     },
     "execution_count": 2,
     "metadata": {},
     "output_type": "execute_result"
    }
   ],
   "source": [
    "(3 > 5) or (3 < 5)\n",
    "(3 > 5) | (3 < 5)"
   ]
  },
  {
   "cell_type": "markdown",
   "id": "a963819f",
   "metadata": {},
   "source": [
    "or yerine | operatörünü de kullanabiliriz"
   ]
  },
  {
   "cell_type": "code",
   "execution_count": 3,
   "id": "c44c4978",
   "metadata": {},
   "outputs": [],
   "source": [
    "a = 10\n",
    "b = 20"
   ]
  },
  {
   "cell_type": "code",
   "execution_count": 4,
   "id": "834e0cff",
   "metadata": {},
   "outputs": [
    {
     "name": "stdout",
     "output_type": "stream",
     "text": [
      "b > a\n"
     ]
    }
   ],
   "source": [
    "if (a > b) :\n",
    "    print(\"a > b\")\n",
    "elif (b > a):\n",
    "    print(\"b > a\")\n",
    "else : \n",
    "    print(\"a == b\")"
   ]
  },
  {
   "cell_type": "code",
   "execution_count": 5,
   "id": "40e3211a",
   "metadata": {},
   "outputs": [],
   "source": [
    "myList = [1,2,3,4,5,6]"
   ]
  },
  {
   "cell_type": "code",
   "execution_count": 6,
   "id": "307dcc6f",
   "metadata": {},
   "outputs": [
    {
     "name": "stdout",
     "output_type": "stream",
     "text": [
      "it's available\n",
      "it's available\n"
     ]
    }
   ],
   "source": [
    "if 5 in myList:\n",
    "    print(\"it's available\")\n",
    "if 2 in myList and 5 in myList:\n",
    "    print(\"it's available\")"
   ]
  },
  {
   "cell_type": "markdown",
   "id": "146b7646",
   "metadata": {},
   "source": [
    "Bir değişken içinden kelime, karakter, numara vs. kontrolünü in sözcüğü ile yapabiliriz."
   ]
  },
  {
   "cell_type": "code",
   "execution_count": null,
   "id": "f7ddd6fe",
   "metadata": {},
   "outputs": [],
   "source": []
  }
 ],
 "metadata": {
  "kernelspec": {
   "display_name": "Python 3 (ipykernel)",
   "language": "python",
   "name": "python3"
  },
  "language_info": {
   "codemirror_mode": {
    "name": "ipython",
    "version": 3
   },
   "file_extension": ".py",
   "mimetype": "text/x-python",
   "name": "python",
   "nbconvert_exporter": "python",
   "pygments_lexer": "ipython3",
   "version": "3.10.9"
  }
 },
 "nbformat": 4,
 "nbformat_minor": 5
}
