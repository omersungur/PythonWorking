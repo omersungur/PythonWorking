{
 "cells": [
  {
   "cell_type": "code",
   "execution_count": 1,
   "id": "e637c054",
   "metadata": {},
   "outputs": [
    {
     "data": {
      "text/plain": [
       "{'key1': '10', 'key2': 20}"
      ]
     },
     "execution_count": 1,
     "metadata": {},
     "output_type": "execute_result"
    }
   ],
   "source": [
    "my_dictionary = {\"key1\": \"10\",\"key2\":20}\n",
    "my_dictionary"
   ]
  },
  {
   "cell_type": "markdown",
   "id": "f2fe4d7b",
   "metadata": {},
   "source": [
    "Key - Value sistemiyle bir değişken oluşturabiliriz. Key ve valuelerin birbiriyle ilişkisi yoktur. Yani anahtarların tipi veya değerlerin tipi birbirinden farklı olabilir."
   ]
  },
  {
   "cell_type": "code",
   "execution_count": 2,
   "id": "1703ee01",
   "metadata": {},
   "outputs": [
    {
     "data": {
      "text/plain": [
       "'10'"
      ]
     },
     "execution_count": 2,
     "metadata": {},
     "output_type": "execute_result"
    }
   ],
   "source": [
    "my_dictionary[\"key1\"]"
   ]
  },
  {
   "cell_type": "code",
   "execution_count": 3,
   "id": "66eebec9",
   "metadata": {},
   "outputs": [
    {
     "data": {
      "text/plain": [
       "{'key1': 10, 'key2': 20, 'key3': {'keyin': 15}, 'key4': [0, 1, 2]}"
      ]
     },
     "execution_count": 3,
     "metadata": {},
     "output_type": "execute_result"
    }
   ],
   "source": [
    "my_dictionary2 = {\"key1\" : 10, \"key2\" : 20, \"key3\": {\"keyin\" : 15}, \"key4\": [0,1,2]}\n",
    "my_dictionary2"
   ]
  },
  {
   "cell_type": "markdown",
   "id": "7d5318ed",
   "metadata": {},
   "source": [
    "Anahtarlar içinde anahtarlar veya listeler tanımlanabilir. Ayrıca anahtarlarda listeler gibi değiştirilebilir. Immutable değildirler."
   ]
  },
  {
   "cell_type": "code",
   "execution_count": 4,
   "id": "b85e2a8e",
   "metadata": {},
   "outputs": [
    {
     "data": {
      "text/plain": [
       "dict_keys(['key1', 'key2', 'key3', 'key4'])"
      ]
     },
     "execution_count": 4,
     "metadata": {},
     "output_type": "execute_result"
    }
   ],
   "source": [
    "my_dictionary2.keys()"
   ]
  },
  {
   "cell_type": "markdown",
   "id": "b1c64e1b",
   "metadata": {},
   "source": [
    "Bir anahtar içindeki bütün key değerlerini keys metoduyla alabiliriz."
   ]
  },
  {
   "cell_type": "code",
   "execution_count": 5,
   "id": "450b07d6",
   "metadata": {},
   "outputs": [
    {
     "data": {
      "text/plain": [
       "dict_values([10, 20, {'keyin': 15}, [0, 1, 2]])"
      ]
     },
     "execution_count": 5,
     "metadata": {},
     "output_type": "execute_result"
    }
   ],
   "source": [
    "my_dictionary2.values()"
   ]
  },
  {
   "cell_type": "markdown",
   "id": "3888e273",
   "metadata": {},
   "source": [
    "Bir anahtar içindeki bütün değerleri values metoduyla alabiliriz."
   ]
  },
  {
   "cell_type": "code",
   "execution_count": 6,
   "id": "6560515e",
   "metadata": {},
   "outputs": [
    {
     "data": {
      "text/plain": [
       "15"
      ]
     },
     "execution_count": 6,
     "metadata": {},
     "output_type": "execute_result"
    }
   ],
   "source": [
    "my_dictionary2[\"key3\"][\"keyin\"]"
   ]
  },
  {
   "cell_type": "code",
   "execution_count": null,
   "id": "119142c2",
   "metadata": {},
   "outputs": [],
   "source": []
  }
 ],
 "metadata": {
  "kernelspec": {
   "display_name": "Python 3 (ipykernel)",
   "language": "python",
   "name": "python3"
  },
  "language_info": {
   "codemirror_mode": {
    "name": "ipython",
    "version": 3
   },
   "file_extension": ".py",
   "mimetype": "text/x-python",
   "name": "python",
   "nbconvert_exporter": "python",
   "pygments_lexer": "ipython3",
   "version": "3.10.9"
  }
 },
 "nbformat": 4,
 "nbformat_minor": 5
}
