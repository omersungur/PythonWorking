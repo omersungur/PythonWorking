{
 "cells": [
  {
   "cell_type": "code",
   "execution_count": 1,
   "id": "7fd184a7",
   "metadata": {},
   "outputs": [
    {
     "name": "stdout",
     "output_type": "stream",
     "text": [
      "5\n",
      "10\n",
      "15\n",
      "20\n",
      "25\n",
      "30\n",
      "35\n",
      "40\n",
      "45\n",
      "50\n",
      "55\n",
      "60\n",
      "65\n",
      "70\n",
      "75\n",
      "80\n",
      "85\n",
      "90\n",
      "95\n",
      "100\n"
     ]
    }
   ],
   "source": [
    "for i in list(range(1,21)):\n",
    "    print(i * 5)"
   ]
  },
  {
   "cell_type": "markdown",
   "id": "98cc4b2a",
   "metadata": {},
   "source": [
    "range metoduyla otomatik olarak belirtilen aralıkta sayılar oluşturulur. range(20) = 0'dan başlayarak 20'ye kadar oluşturur ve 20 dahil değildir. range(0,20,3) = 3'er 3'er atlayarak değerleri oluşturur."
   ]
  },
  {
   "cell_type": "code",
   "execution_count": 2,
   "id": "9510287b",
   "metadata": {},
   "outputs": [
    {
     "name": "stdout",
     "output_type": "stream",
     "text": [
      "5\n",
      "20\n",
      "35\n",
      "50\n",
      "65\n",
      "80\n",
      "95\n"
     ]
    }
   ],
   "source": [
    "for i in list(range(1,21,3)):\n",
    "    print(i * 5)"
   ]
  },
  {
   "cell_type": "code",
   "execution_count": 3,
   "id": "66478bb6",
   "metadata": {},
   "outputs": [
    {
     "name": "stdout",
     "output_type": "stream",
     "text": [
      "(0, 0)\n",
      "(1, 5)\n",
      "(2, 10)\n",
      "(3, 15)\n"
     ]
    }
   ],
   "source": [
    "for i in enumerate(list(range(0,20,5))):\n",
    "    print(i)"
   ]
  },
  {
   "cell_type": "markdown",
   "id": "f5a8da13",
   "metadata": {},
   "source": [
    "Enumerate metoduyla elemanların indislerini de alabiliyoruz."
   ]
  },
  {
   "cell_type": "code",
   "execution_count": 4,
   "id": "55d74906",
   "metadata": {},
   "outputs": [],
   "source": [
    "from random import randint"
   ]
  },
  {
   "cell_type": "code",
   "execution_count": 5,
   "id": "2e9f5fac",
   "metadata": {},
   "outputs": [
    {
     "data": {
      "text/plain": [
       "339"
      ]
     },
     "execution_count": 5,
     "metadata": {},
     "output_type": "execute_result"
    }
   ],
   "source": [
    "randint(0,500)"
   ]
  },
  {
   "cell_type": "markdown",
   "id": "511270fd",
   "metadata": {},
   "source": [
    "randint ile 0-500 arasından rastgele bir random sayı oluşturabiliriz."
   ]
  },
  {
   "cell_type": "code",
   "execution_count": 6,
   "id": "1eab3bdb",
   "metadata": {},
   "outputs": [],
   "source": [
    "myList = [10,20,30,40,50,60,70,80,90]"
   ]
  },
  {
   "cell_type": "code",
   "execution_count": 7,
   "id": "4991b0c4",
   "metadata": {},
   "outputs": [],
   "source": [
    "from random import shuffle"
   ]
  },
  {
   "cell_type": "code",
   "execution_count": 8,
   "id": "b6710182",
   "metadata": {},
   "outputs": [],
   "source": [
    "shuffle(myList)"
   ]
  },
  {
   "cell_type": "code",
   "execution_count": 9,
   "id": "594af1c4",
   "metadata": {},
   "outputs": [
    {
     "data": {
      "text/plain": [
       "[80, 70, 50, 10, 60, 20, 90, 30, 40]"
      ]
     },
     "execution_count": 9,
     "metadata": {},
     "output_type": "execute_result"
    }
   ],
   "source": [
    "myList"
   ]
  },
  {
   "cell_type": "markdown",
   "id": "31c50236",
   "metadata": {},
   "source": [
    "shuffle ile bir liste içindeki elemanların yerini rastgele karıştırabiliriz."
   ]
  },
  {
   "cell_type": "code",
   "execution_count": 10,
   "id": "29eb3d8f",
   "metadata": {},
   "outputs": [],
   "source": [
    "sport_list = [\"swim\",\"run\",\"fly\"]"
   ]
  },
  {
   "cell_type": "code",
   "execution_count": 11,
   "id": "ff6f9a00",
   "metadata": {},
   "outputs": [],
   "source": [
    "day_list = [\"Monday\",\"Wednesday\",\"Friday\"]"
   ]
  },
  {
   "cell_type": "code",
   "execution_count": 12,
   "id": "ea755c4c",
   "metadata": {},
   "outputs": [],
   "source": [
    "calories_list = [300,500,200]"
   ]
  },
  {
   "cell_type": "code",
   "execution_count": 13,
   "id": "757e86f5",
   "metadata": {},
   "outputs": [],
   "source": [
    "new_List = list(zip(sport_list,calories_list,day_list))"
   ]
  },
  {
   "cell_type": "code",
   "execution_count": 14,
   "id": "9d23f547",
   "metadata": {},
   "outputs": [
    {
     "data": {
      "text/plain": [
       "[('swim', 300, 'Monday'), ('run', 500, 'Wednesday'), ('fly', 200, 'Friday')]"
      ]
     },
     "execution_count": 14,
     "metadata": {},
     "output_type": "execute_result"
    }
   ],
   "source": [
    "new_List"
   ]
  },
  {
   "cell_type": "markdown",
   "id": "3cc8634b",
   "metadata": {},
   "source": [
    "zip kullanarak listeleri birleştirebiliriz."
   ]
  },
  {
   "cell_type": "code",
   "execution_count": 15,
   "id": "bb18290e",
   "metadata": {},
   "outputs": [],
   "source": [
    "my_str = \"Hello World\""
   ]
  },
  {
   "cell_type": "code",
   "execution_count": 16,
   "id": "64034587",
   "metadata": {},
   "outputs": [
    {
     "data": {
      "text/plain": [
       "['H', 'e', 'l', 'l', 'o', ' ', 'W', 'o', 'r', 'l', 'd']"
      ]
     },
     "execution_count": 16,
     "metadata": {},
     "output_type": "execute_result"
    }
   ],
   "source": [
    "new_str_list = [i for i in my_str]\n",
    "new_str_list"
   ]
  },
  {
   "cell_type": "markdown",
   "id": "2c0bc14e",
   "metadata": {},
   "source": [
    "For için tek bir satırda işlem için bu yapıyı kullanabiliriz."
   ]
  },
  {
   "cell_type": "code",
   "execution_count": null,
   "id": "fd6239fe",
   "metadata": {},
   "outputs": [],
   "source": []
  }
 ],
 "metadata": {
  "kernelspec": {
   "display_name": "Python 3 (ipykernel)",
   "language": "python",
   "name": "python3"
  },
  "language_info": {
   "codemirror_mode": {
    "name": "ipython",
    "version": 3
   },
   "file_extension": ".py",
   "mimetype": "text/x-python",
   "name": "python",
   "nbconvert_exporter": "python",
   "pygments_lexer": "ipython3",
   "version": "3.10.9"
  }
 },
 "nbformat": 4,
 "nbformat_minor": 5
}
