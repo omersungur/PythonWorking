{
 "cells": [
  {
   "cell_type": "code",
   "execution_count": 1,
   "id": "351085a2",
   "metadata": {},
   "outputs": [],
   "source": [
    "def myFunc():\n",
    "    print(\"Hello\")"
   ]
  },
  {
   "cell_type": "code",
   "execution_count": 2,
   "id": "333b6054",
   "metadata": {},
   "outputs": [
    {
     "name": "stdout",
     "output_type": "stream",
     "text": [
      "Hello\n"
     ]
    }
   ],
   "source": [
    "myFunc()"
   ]
  },
  {
   "cell_type": "markdown",
   "id": "f6a6ac1f",
   "metadata": {},
   "source": [
    "Metod tanımlaması."
   ]
  },
  {
   "cell_type": "code",
   "execution_count": 3,
   "id": "8d5ca677",
   "metadata": {},
   "outputs": [],
   "source": [
    "def myFunc2(name,name2=\"aa\"):\n",
    "    print(name + \" \" + name2)"
   ]
  },
  {
   "cell_type": "code",
   "execution_count": 4,
   "id": "e7aa5a61",
   "metadata": {},
   "outputs": [
    {
     "name": "stdout",
     "output_type": "stream",
     "text": [
      "Hi aa\n"
     ]
    }
   ],
   "source": [
    "myFunc2(\"Hi\")"
   ]
  },
  {
   "cell_type": "markdown",
   "id": "54b2a3cd",
   "metadata": {},
   "source": [
    "Parametreli fonksiyon türetimi. Eğer parametrelere bir değer verirsek bu onun default değeri olur. Yani fonksiyon çağrıldığında o parametre boş geçilirse verdiğimiz default değer geçerli olur."
   ]
  },
  {
   "cell_type": "code",
   "execution_count": 5,
   "id": "77be2d16",
   "metadata": {},
   "outputs": [],
   "source": [
    "def myFunc3(sayi1,sayi2):\n",
    "    return sayi1 + sayi2"
   ]
  },
  {
   "cell_type": "code",
   "execution_count": 6,
   "id": "209108b1",
   "metadata": {},
   "outputs": [],
   "source": [
    "A = myFunc3(50,20)"
   ]
  },
  {
   "cell_type": "code",
   "execution_count": 7,
   "id": "ff44a8be",
   "metadata": {},
   "outputs": [
    {
     "name": "stdout",
     "output_type": "stream",
     "text": [
      "70\n"
     ]
    }
   ],
   "source": [
    "print(A)"
   ]
  },
  {
   "cell_type": "markdown",
   "id": "7e30ad8c",
   "metadata": {},
   "source": [
    "Değer döndüren metod türetimi."
   ]
  },
  {
   "cell_type": "code",
   "execution_count": 8,
   "id": "8abd9611",
   "metadata": {},
   "outputs": [],
   "source": [
    "def myFunc4(*args):\n",
    "    return sum(args)"
   ]
  },
  {
   "cell_type": "code",
   "execution_count": 9,
   "id": "aee2ccd3",
   "metadata": {},
   "outputs": [
    {
     "name": "stdout",
     "output_type": "stream",
     "text": [
      "176\n"
     ]
    }
   ],
   "source": [
    "B = myFunc4(50,10,2,25,35,54)\n",
    "print(B)"
   ]
  },
  {
   "cell_type": "markdown",
   "id": "0382662d",
   "metadata": {},
   "source": [
    "yıldız (*) operatörünü kaç tane veri geleceğini bilmediğimizde veriyoruz. args yerine başka bir şey de yazılabilir orası bize kalmış."
   ]
  },
  {
   "cell_type": "code",
   "execution_count": 10,
   "id": "e07a7103",
   "metadata": {},
   "outputs": [],
   "source": [
    "def myFunc5(**kwargs):\n",
    "    print(kwargs)"
   ]
  },
  {
   "cell_type": "code",
   "execution_count": 11,
   "id": "bfb903e6",
   "metadata": {},
   "outputs": [
    {
     "name": "stdout",
     "output_type": "stream",
     "text": [
      "{'a': 5, 'b': 3, 'c': 8}\n"
     ]
    }
   ],
   "source": [
    "myFunc5(a = 5, b = 3, c = 8)"
   ]
  },
  {
   "cell_type": "markdown",
   "id": "06511fd8",
   "metadata": {},
   "source": [
    "iki yıldız ** operatörüyle sayısını bilmediğimiz kadar key value alabiliriz."
   ]
  },
  {
   "cell_type": "code",
   "execution_count": 12,
   "id": "161d0a71",
   "metadata": {},
   "outputs": [],
   "source": [
    "def myFunc6(sayi):\n",
    "    return sayi / 2"
   ]
  },
  {
   "cell_type": "code",
   "execution_count": 13,
   "id": "3f09deb0",
   "metadata": {},
   "outputs": [],
   "source": [
    "myList = [5,10,30,35,50,60]"
   ]
  },
  {
   "cell_type": "code",
   "execution_count": 14,
   "id": "bbf721c7",
   "metadata": {},
   "outputs": [
    {
     "data": {
      "text/plain": [
       "[2.5, 5.0, 15.0, 17.5, 25.0, 30.0]"
      ]
     },
     "execution_count": 14,
     "metadata": {},
     "output_type": "execute_result"
    }
   ],
   "source": [
    "list(map(myFunc6,myList))"
   ]
  },
  {
   "cell_type": "markdown",
   "id": "f68f9a8f",
   "metadata": {},
   "source": [
    "map fonksiyonuna 2 parametre verdik. Birincisi fonksiyonumuz ikincisi listemiz. Buradaki amaç, fonksiyonumuzu listemizdeki tüm elemanlara uygulamak."
   ]
  },
  {
   "cell_type": "code",
   "execution_count": 15,
   "id": "e80d3784",
   "metadata": {},
   "outputs": [],
   "source": [
    "def myFunc7(sayi):\n",
    "    if(sayi > 20):\n",
    "        print(sayi)"
   ]
  },
  {
   "cell_type": "code",
   "execution_count": 16,
   "id": "a5f4f09d",
   "metadata": {},
   "outputs": [
    {
     "name": "stdout",
     "output_type": "stream",
     "text": [
      "30\n",
      "35\n",
      "50\n",
      "60\n"
     ]
    },
    {
     "data": {
      "text/plain": [
       "[]"
      ]
     },
     "execution_count": 16,
     "metadata": {},
     "output_type": "execute_result"
    }
   ],
   "source": [
    "list(filter(myFunc7,myList))"
   ]
  },
  {
   "cell_type": "markdown",
   "id": "46ad21ed",
   "metadata": {},
   "source": [
    "Filter iki parametre alıyor. Birincisi fonksiyon, ikincisi değer kümesi. Değerlerimizden belirli bir kouşula uyanları almak istiyorsak kullanabiliriz"
   ]
  },
  {
   "cell_type": "code",
   "execution_count": 17,
   "id": "04fbe6da",
   "metadata": {},
   "outputs": [],
   "source": [
    "lambdaFun = lambda sayi : sayi * 5"
   ]
  },
  {
   "cell_type": "code",
   "execution_count": 18,
   "id": "2dd82c61",
   "metadata": {},
   "outputs": [
    {
     "data": {
      "text/plain": [
       "50"
      ]
     },
     "execution_count": 18,
     "metadata": {},
     "output_type": "execute_result"
    }
   ],
   "source": [
    "lambdaFun(10)"
   ]
  },
  {
   "cell_type": "markdown",
   "id": "ff7f00ba",
   "metadata": {},
   "source": [
    " Tek satırda yazdığımız kodlar lambda fonksiyonlarıdır. Bunları map ve filter için kullanabiliriz ve ekstra metod yazmamıza gerek kalmaz."
   ]
  },
  {
   "cell_type": "code",
   "execution_count": 19,
   "id": "b6bfca8c",
   "metadata": {},
   "outputs": [
    {
     "data": {
      "text/plain": [
       "[25, 50, 150, 175, 250, 300]"
      ]
     },
     "execution_count": 19,
     "metadata": {},
     "output_type": "execute_result"
    }
   ],
   "source": [
    "list(map(lambdaFun,myList))"
   ]
  },
  {
   "cell_type": "code",
   "execution_count": 20,
   "id": "9b2a443d",
   "metadata": {},
   "outputs": [],
   "source": [
    "def decorator_func(new_func):\n",
    "    def wrapper_func():\n",
    "        print(\"wrapper func started\")\n",
    "        \n",
    "        new_func()\n",
    "        \n",
    "        print(\"wrapper func finished\")\n",
    "    return wrapper_func()"
   ]
  },
  {
   "cell_type": "code",
   "execution_count": 21,
   "id": "442cde67",
   "metadata": {
    "scrolled": true
   },
   "outputs": [
    {
     "name": "stdout",
     "output_type": "stream",
     "text": [
      "wrapper func started\n",
      "Hello World\n",
      "wrapper func finished\n"
     ]
    }
   ],
   "source": [
    "@decorator_func\n",
    "def my_new_func():\n",
    "    print(\"Hello World\")"
   ]
  },
  {
   "cell_type": "markdown",
   "id": "019e7731",
   "metadata": {},
   "source": [
    "Decorator yapısı kullandık."
   ]
  },
  {
   "cell_type": "code",
   "execution_count": null,
   "id": "f203f6bc",
   "metadata": {},
   "outputs": [],
   "source": []
  }
 ],
 "metadata": {
  "kernelspec": {
   "display_name": "Python 3 (ipykernel)",
   "language": "python",
   "name": "python3"
  },
  "language_info": {
   "codemirror_mode": {
    "name": "ipython",
    "version": 3
   },
   "file_extension": ".py",
   "mimetype": "text/x-python",
   "name": "python",
   "nbconvert_exporter": "python",
   "pygments_lexer": "ipython3",
   "version": "3.10.9"
  }
 },
 "nbformat": 4,
 "nbformat_minor": 5
}
