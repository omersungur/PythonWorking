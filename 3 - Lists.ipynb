{
 "cells": [
  {
   "cell_type": "code",
   "execution_count": 1,
   "id": "83b40e1e",
   "metadata": {},
   "outputs": [],
   "source": [
    "mylist = [0,1,2]"
   ]
  },
  {
   "cell_type": "code",
   "execution_count": 2,
   "id": "bfb7b51b",
   "metadata": {},
   "outputs": [
    {
     "data": {
      "text/plain": [
       "[0, 1, 2]"
      ]
     },
     "execution_count": 2,
     "metadata": {},
     "output_type": "execute_result"
    }
   ],
   "source": [
    "mylist"
   ]
  },
  {
   "cell_type": "code",
   "execution_count": 3,
   "id": "fd122dcb",
   "metadata": {},
   "outputs": [],
   "source": [
    "mylist[0] = 5"
   ]
  },
  {
   "cell_type": "code",
   "execution_count": 4,
   "id": "b8b7526a",
   "metadata": {},
   "outputs": [
    {
     "data": {
      "text/plain": [
       "[5, 1, 2]"
      ]
     },
     "execution_count": 4,
     "metadata": {},
     "output_type": "execute_result"
    }
   ],
   "source": [
    "mylist"
   ]
  },
  {
   "cell_type": "markdown",
   "id": "7c6ec9e8",
   "metadata": {},
   "source": [
    "String değişkenler immutabledır. Yani değiştirilemezdir fakat listenin elemanlarını değiştirebiliriz."
   ]
  },
  {
   "cell_type": "code",
   "execution_count": 5,
   "id": "85f262d2",
   "metadata": {},
   "outputs": [],
   "source": [
    "mylist.append(10)"
   ]
  },
  {
   "cell_type": "code",
   "execution_count": 6,
   "id": "839f5f36",
   "metadata": {},
   "outputs": [
    {
     "data": {
      "text/plain": [
       "[5, 1, 2, 10]"
      ]
     },
     "execution_count": 6,
     "metadata": {},
     "output_type": "execute_result"
    }
   ],
   "source": [
    "mylist"
   ]
  },
  {
   "cell_type": "markdown",
   "id": "b4e93bfc",
   "metadata": {},
   "source": [
    "append metodu ile listenin sonuna eleman ekleyebiliriz."
   ]
  },
  {
   "cell_type": "code",
   "execution_count": 7,
   "id": "802db3e9",
   "metadata": {},
   "outputs": [
    {
     "data": {
      "text/plain": [
       "10"
      ]
     },
     "execution_count": 7,
     "metadata": {},
     "output_type": "execute_result"
    }
   ],
   "source": [
    "mylist.pop()"
   ]
  },
  {
   "cell_type": "markdown",
   "id": "c01bd90c",
   "metadata": {},
   "source": [
    "pop metodu dizinin sonundaki elemanı diziden atar ve ayrıca bize o değeri döndürür."
   ]
  },
  {
   "cell_type": "code",
   "execution_count": 10,
   "id": "ac31a1ac",
   "metadata": {},
   "outputs": [
    {
     "data": {
      "text/plain": [
       "['a', 'b', 'c']"
      ]
     },
     "execution_count": 10,
     "metadata": {},
     "output_type": "execute_result"
    }
   ],
   "source": [
    "mylist2 = [\"a\",\"b\",\"c\"]\n",
    "mylist2"
   ]
  },
  {
   "cell_type": "code",
   "execution_count": 12,
   "id": "f20112c2",
   "metadata": {},
   "outputs": [],
   "source": [
    "mylist3 = mylist2 + mylist"
   ]
  },
  {
   "cell_type": "code",
   "execution_count": 13,
   "id": "e2799329",
   "metadata": {},
   "outputs": [
    {
     "data": {
      "text/plain": [
       "['a', 'b', 'c', 5, 1, 2]"
      ]
     },
     "execution_count": 13,
     "metadata": {},
     "output_type": "execute_result"
    }
   ],
   "source": [
    "mylist3"
   ]
  },
  {
   "cell_type": "markdown",
   "id": "38f54de7",
   "metadata": {},
   "source": [
    "Listelerde toplama işlemi. Ek olarak diğer dillerde sadece aynı tipten değişkenler bir dizi içinde bulunabilirken Python dilinde esneklik sağlanarak, listeler değişik tipten değer bulundurabilir."
   ]
  },
  {
   "cell_type": "code",
   "execution_count": 18,
   "id": "4ba3e1ce",
   "metadata": {},
   "outputs": [],
   "source": [
    "mylist3.reverse()"
   ]
  },
  {
   "cell_type": "code",
   "execution_count": 19,
   "id": "2a4b0679",
   "metadata": {},
   "outputs": [
    {
     "data": {
      "text/plain": [
       "[2, 1, 5, 'c', 'b', 'a']"
      ]
     },
     "execution_count": 19,
     "metadata": {},
     "output_type": "execute_result"
    }
   ],
   "source": [
    "mylist3"
   ]
  },
  {
   "cell_type": "markdown",
   "id": "ed0d391c",
   "metadata": {},
   "source": [
    "Listeyi ters çevirme fonksiyonunu çağırdık."
   ]
  },
  {
   "cell_type": "code",
   "execution_count": 20,
   "id": "f23f4566",
   "metadata": {},
   "outputs": [
    {
     "data": {
      "text/plain": [
       "[0, 1, 2, ['a', 'b']]"
      ]
     },
     "execution_count": 20,
     "metadata": {},
     "output_type": "execute_result"
    }
   ],
   "source": [
    "myNewList = [0,1,2,[\"a\",\"b\"]]\n",
    "myNewList"
   ]
  },
  {
   "cell_type": "markdown",
   "id": "c2217cb4",
   "metadata": {},
   "source": [
    "Dizi içinde dizi tanımlaması yaptık."
   ]
  },
  {
   "cell_type": "code",
   "execution_count": 21,
   "id": "3e72259b",
   "metadata": {},
   "outputs": [
    {
     "data": {
      "text/plain": [
       "['a', 'b']"
      ]
     },
     "execution_count": 21,
     "metadata": {},
     "output_type": "execute_result"
    }
   ],
   "source": [
    "myNewList[3]"
   ]
  },
  {
   "cell_type": "code",
   "execution_count": null,
   "id": "298d6e46",
   "metadata": {},
   "outputs": [],
   "source": []
  }
 ],
 "metadata": {
  "kernelspec": {
   "display_name": "Python 3 (ipykernel)",
   "language": "python",
   "name": "python3"
  },
  "language_info": {
   "codemirror_mode": {
    "name": "ipython",
    "version": 3
   },
   "file_extension": ".py",
   "mimetype": "text/x-python",
   "name": "python",
   "nbconvert_exporter": "python",
   "pygments_lexer": "ipython3",
   "version": "3.10.9"
  }
 },
 "nbformat": 4,
 "nbformat_minor": 5
}
