{
 "cells": [
  {
   "cell_type": "code",
   "execution_count": 1,
   "id": "92814d46",
   "metadata": {},
   "outputs": [],
   "source": [
    "my_tuple = (1,2,3,\"a\",1)"
   ]
  },
  {
   "cell_type": "code",
   "execution_count": 2,
   "id": "35ccd5b0",
   "metadata": {},
   "outputs": [
    {
     "data": {
      "text/plain": [
       "tuple"
      ]
     },
     "execution_count": 2,
     "metadata": {},
     "output_type": "execute_result"
    }
   ],
   "source": [
    "type(my_tuple)"
   ]
  },
  {
   "cell_type": "markdown",
   "id": "7f2dc17f",
   "metadata": {},
   "source": [
    "Tuple tipi aynı listeler gibi birden fazla elemanı tutmamız için vardır. Aynı elemandan birden çok oluşturabiliriz fakat elemanların değerleri değiştirilemez. Tuple tipi immutabledır."
   ]
  },
  {
   "cell_type": "code",
   "execution_count": 3,
   "id": "62220ef9",
   "metadata": {},
   "outputs": [
    {
     "ename": "TypeError",
     "evalue": "'tuple' object does not support item assignment",
     "output_type": "error",
     "traceback": [
      "\u001b[1;31m---------------------------------------------------------------------------\u001b[0m",
      "\u001b[1;31mTypeError\u001b[0m                                 Traceback (most recent call last)",
      "Cell \u001b[1;32mIn[3], line 1\u001b[0m\n\u001b[1;32m----> 1\u001b[0m my_tuple[\u001b[38;5;241m0\u001b[39m] \u001b[38;5;241m=\u001b[39m \u001b[38;5;241m5\u001b[39m\n",
      "\u001b[1;31mTypeError\u001b[0m: 'tuple' object does not support item assignment"
     ]
    }
   ],
   "source": [
    "my_tuple[0] = 5"
   ]
  },
  {
   "cell_type": "markdown",
   "id": "31e4847a",
   "metadata": {},
   "source": [
    "Immutable olduğu için değiştiremeyiz"
   ]
  },
  {
   "cell_type": "code",
   "execution_count": null,
   "id": "7830a60c",
   "metadata": {},
   "outputs": [],
   "source": []
  }
 ],
 "metadata": {
  "kernelspec": {
   "display_name": "Python 3 (ipykernel)",
   "language": "python",
   "name": "python3"
  },
  "language_info": {
   "codemirror_mode": {
    "name": "ipython",
    "version": 3
   },
   "file_extension": ".py",
   "mimetype": "text/x-python",
   "name": "python",
   "nbconvert_exporter": "python",
   "pygments_lexer": "ipython3",
   "version": "3.10.9"
  }
 },
 "nbformat": 4,
 "nbformat_minor": 5
}
