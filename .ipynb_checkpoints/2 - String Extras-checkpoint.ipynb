{
 "cells": [
  {
   "cell_type": "code",
   "execution_count": 1,
   "id": "33cd7767",
   "metadata": {},
   "outputs": [],
   "source": [
    "str1 = \"Hello World\""
   ]
  },
  {
   "cell_type": "code",
   "execution_count": 2,
   "id": "1b81b45f",
   "metadata": {},
   "outputs": [
    {
     "data": {
      "text/plain": [
       "'H'"
      ]
     },
     "execution_count": 2,
     "metadata": {},
     "output_type": "execute_result"
    }
   ],
   "source": [
    "str1[0]"
   ]
  },
  {
   "cell_type": "markdown",
   "id": "25512937",
   "metadata": {},
   "source": [
    "String değişkeninde karakterleri gezebiliriz. 0'dan başlar."
   ]
  },
  {
   "cell_type": "code",
   "execution_count": 3,
   "id": "ef4f071e",
   "metadata": {},
   "outputs": [
    {
     "data": {
      "text/plain": [
       "'d'"
      ]
     },
     "execution_count": 3,
     "metadata": {},
     "output_type": "execute_result"
    }
   ],
   "source": [
    "str1[-1]"
   ]
  },
  {
   "cell_type": "markdown",
   "id": "898726d5",
   "metadata": {},
   "source": [
    "Karakterlere sondan ulaşmak için -1 ile ulaşabiliriz -2 -3 diye devam eder."
   ]
  },
  {
   "cell_type": "code",
   "execution_count": 4,
   "id": "71379f92",
   "metadata": {},
   "outputs": [
    {
     "data": {
      "text/plain": [
       "'lo World'"
      ]
     },
     "execution_count": 4,
     "metadata": {},
     "output_type": "execute_result"
    }
   ],
   "source": [
    "str1[3:]"
   ]
  },
  {
   "cell_type": "markdown",
   "id": "ac99e571",
   "metadata": {},
   "source": [
    "Değişkendeki 3 indisli karakterden sonuna kadar okuma yapıyoruz. Eğer sayımız :'nın solunda kalırsa o sayı dahildir. [3:]"
   ]
  },
  {
   "cell_type": "code",
   "execution_count": 5,
   "id": "933b79cf",
   "metadata": {},
   "outputs": [
    {
     "data": {
      "text/plain": [
       "'Hel'"
      ]
     },
     "execution_count": 5,
     "metadata": {},
     "output_type": "execute_result"
    }
   ],
   "source": [
    "str1[:3]"
   ]
  },
  {
   "cell_type": "markdown",
   "id": "5b19859d",
   "metadata": {},
   "source": [
    "Değişkenin en başından 3 indisli karaktere kadar okuma yapıyoruz. 3 indisli karakter dahil değildir! [:3]"
   ]
  },
  {
   "cell_type": "code",
   "execution_count": 6,
   "id": "a4b5434f",
   "metadata": {},
   "outputs": [
    {
     "data": {
      "text/plain": [
       "'llo W'"
      ]
     },
     "execution_count": 6,
     "metadata": {},
     "output_type": "execute_result"
    }
   ],
   "source": [
    "str1[2:7]"
   ]
  },
  {
   "cell_type": "markdown",
   "id": "7ee6f952",
   "metadata": {},
   "source": [
    "2 indisli karakter dahildir fakat 7 indisli karakter dahil değildir."
   ]
  },
  {
   "cell_type": "code",
   "execution_count": 7,
   "id": "e08dc79f",
   "metadata": {},
   "outputs": [
    {
     "data": {
      "text/plain": [
       "'Hello World'"
      ]
     },
     "execution_count": 7,
     "metadata": {},
     "output_type": "execute_result"
    }
   ],
   "source": [
    "str1[::]"
   ]
  },
  {
   "cell_type": "markdown",
   "id": "9702fa68",
   "metadata": {},
   "source": [
    "Bütün karakterleri okuyoruz."
   ]
  },
  {
   "cell_type": "code",
   "execution_count": 8,
   "id": "6b32d42e",
   "metadata": {},
   "outputs": [
    {
     "data": {
      "text/plain": [
       "'HloWrd'"
      ]
     },
     "execution_count": 8,
     "metadata": {},
     "output_type": "execute_result"
    }
   ],
   "source": [
    "str1[::2]"
   ]
  },
  {
   "cell_type": "markdown",
   "id": "35d7cb99",
   "metadata": {},
   "source": [
    "En baştan başlayarak 2 karakter atlaya atlaya okuma yapıyoruz. 2 atlama yapmak demek aralarda kalan bir karakterin okunmamasıdır."
   ]
  },
  {
   "cell_type": "code",
   "execution_count": 9,
   "id": "3becd792",
   "metadata": {},
   "outputs": [
    {
     "data": {
      "text/plain": [
       "'dlroW olleH'"
      ]
     },
     "execution_count": 9,
     "metadata": {},
     "output_type": "execute_result"
    }
   ],
   "source": [
    "str1[::-1]"
   ]
  },
  {
   "cell_type": "markdown",
   "id": "d9d34d7d",
   "metadata": {},
   "source": [
    "En sondan başlayarak bütün karakterleri okuttuk.(Değişkeninin karakterlerini sondan başa dizdik)"
   ]
  },
  {
   "cell_type": "code",
   "execution_count": 10,
   "id": "33438ab6",
   "metadata": {},
   "outputs": [
    {
     "data": {
      "text/plain": [
       "['Hello', 'World']"
      ]
     },
     "execution_count": 10,
     "metadata": {},
     "output_type": "execute_result"
    }
   ],
   "source": [
    "str1.split()"
   ]
  },
  {
   "cell_type": "markdown",
   "id": "0f75450e",
   "metadata": {},
   "source": [
    "Split ile string değişkenin içinde bulunan karakterleri boşluğa göre ayırır ve dizinin elemanları haline çevirir. str1.split[0] ile ayrılan elemanları direkt kullanabiliriz."
   ]
  },
  {
   "cell_type": "code",
   "execution_count": 11,
   "id": "cec75b97",
   "metadata": {},
   "outputs": [
    {
     "data": {
      "text/plain": [
       "'Hello WorldHello WorldHello WorldHello WorldHello WorldHello WorldHello WorldHello WorldHello WorldHello World'"
      ]
     },
     "execution_count": 11,
     "metadata": {},
     "output_type": "execute_result"
    }
   ],
   "source": [
    "str1 * 10"
   ]
  },
  {
   "cell_type": "markdown",
   "id": "3190e47f",
   "metadata": {},
   "source": [
    "Normalde diğer dillerde bu işlem geçersiz olur fakat Python ile bir string ifadeyi int ile çarpabiliriz fakat toplama yapamayız.(Float hata verir. Sadece Int ile işlem yapılmalıdır)"
   ]
  }
 ],
 "metadata": {
  "kernelspec": {
   "display_name": "Python 3 (ipykernel)",
   "language": "python",
   "name": "python3"
  },
  "language_info": {
   "codemirror_mode": {
    "name": "ipython",
    "version": 3
   },
   "file_extension": ".py",
   "mimetype": "text/x-python",
   "name": "python",
   "nbconvert_exporter": "python",
   "pygments_lexer": "ipython3",
   "version": "3.10.9"
  }
 },
 "nbformat": 4,
 "nbformat_minor": 5
}
