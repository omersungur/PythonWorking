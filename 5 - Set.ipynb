{
 "cells": [
  {
   "cell_type": "code",
   "execution_count": 1,
   "id": "5ea52b97",
   "metadata": {
    "scrolled": true
   },
   "outputs": [
    {
     "data": {
      "text/plain": [
       "[1, 2, 3, 4, 1, 2]"
      ]
     },
     "execution_count": 1,
     "metadata": {},
     "output_type": "execute_result"
    }
   ],
   "source": [
    "myList = [1,2,3,4,1,2]\n",
    "myList"
   ]
  },
  {
   "cell_type": "code",
   "execution_count": 2,
   "id": "31710038",
   "metadata": {},
   "outputs": [
    {
     "data": {
      "text/plain": [
       "{1, 2, 3, 4}"
      ]
     },
     "execution_count": 2,
     "metadata": {},
     "output_type": "execute_result"
    }
   ],
   "source": [
    "myList2 = set(myList)\n",
    "myList2"
   ]
  },
  {
   "cell_type": "markdown",
   "id": "810469b6",
   "metadata": {},
   "source": [
    "set kullanarak kullandığımız içeriğin tekilleşmesini sağlarız. Yani bir değerden sadece bir tane olabilir. Set bir veri tipidir."
   ]
  },
  {
   "cell_type": "code",
   "execution_count": 3,
   "id": "e6fc77bc",
   "metadata": {},
   "outputs": [],
   "source": [
    "myList2 = list()"
   ]
  },
  {
   "cell_type": "markdown",
   "id": "418bbef1",
   "metadata": {},
   "source": [
    "Bazı durumlarda elimizde ne tür bir değişken olacağını biliriz fakat değerleri sonradan çekmemiz gerekebilir. Böyle durumlarda o değer tipinde boş bir dizin oluşturmalıyız."
   ]
  },
  {
   "cell_type": "code",
   "execution_count": null,
   "id": "fd6a0025",
   "metadata": {},
   "outputs": [],
   "source": []
  }
 ],
 "metadata": {
  "kernelspec": {
   "display_name": "Python 3 (ipykernel)",
   "language": "python",
   "name": "python3"
  },
  "language_info": {
   "codemirror_mode": {
    "name": "ipython",
    "version": 3
   },
   "file_extension": ".py",
   "mimetype": "text/x-python",
   "name": "python",
   "nbconvert_exporter": "python",
   "pygments_lexer": "ipython3",
   "version": "3.10.9"
  }
 },
 "nbformat": 4,
 "nbformat_minor": 5
}
