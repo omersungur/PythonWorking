{
 "cells": [
  {
   "cell_type": "code",
   "execution_count": 1,
   "id": "b8fd2092",
   "metadata": {},
   "outputs": [
    {
     "data": {
      "text/plain": [
       "27"
      ]
     },
     "execution_count": 1,
     "metadata": {},
     "output_type": "execute_result"
    }
   ],
   "source": [
    "3 ** 3"
   ]
  },
  {
   "cell_type": "markdown",
   "id": "840b026a",
   "metadata": {},
   "source": [
    "3 ** 3 = 3^3"
   ]
  },
  {
   "cell_type": "code",
   "execution_count": 2,
   "id": "94b33e6e",
   "metadata": {
    "scrolled": true
   },
   "outputs": [
    {
     "data": {
      "text/plain": [
       "2"
      ]
     },
     "execution_count": 2,
     "metadata": {},
     "output_type": "execute_result"
    }
   ],
   "source": [
    "20 % 3"
   ]
  },
  {
   "cell_type": "markdown",
   "id": "f3f83e32",
   "metadata": {},
   "source": [
    "20 MOD 3 = 2"
   ]
  },
  {
   "cell_type": "code",
   "execution_count": 3,
   "id": "e1f92761",
   "metadata": {},
   "outputs": [],
   "source": [
    "a = 1.0 * 2"
   ]
  },
  {
   "cell_type": "markdown",
   "id": "a513145b",
   "metadata": {},
   "source": [
    "Float * Int = Float"
   ]
  },
  {
   "cell_type": "code",
   "execution_count": 4,
   "id": "058c504f",
   "metadata": {},
   "outputs": [
    {
     "data": {
      "text/plain": [
       "float"
      ]
     },
     "execution_count": 4,
     "metadata": {},
     "output_type": "execute_result"
    }
   ],
   "source": [
    "type(a)"
   ]
  },
  {
   "cell_type": "markdown",
   "id": "f048ea09",
   "metadata": {},
   "source": [
    "type > ifadenin tipini verir."
   ]
  },
  {
   "cell_type": "code",
   "execution_count": 5,
   "id": "eb9ee44d",
   "metadata": {},
   "outputs": [
    {
     "name": "stdout",
     "output_type": "stream",
     "text": [
      "Bir değer giriniz: 15\n"
     ]
    }
   ],
   "source": [
    "r = input(\"Bir değer giriniz: \")"
   ]
  },
  {
   "cell_type": "markdown",
   "id": "675be4f5",
   "metadata": {},
   "source": [
    "input ile kullanıcıyla etkileşime girebiliriz."
   ]
  },
  {
   "cell_type": "code",
   "execution_count": 6,
   "id": "5ea4f5cf",
   "metadata": {},
   "outputs": [
    {
     "data": {
      "text/plain": [
       "str"
      ]
     },
     "execution_count": 6,
     "metadata": {},
     "output_type": "execute_result"
    }
   ],
   "source": [
    "type(r)"
   ]
  },
  {
   "cell_type": "markdown",
   "id": "92ced2ce",
   "metadata": {},
   "source": [
    "input ile aldığımız değişken, ne yazarsak yazalım bize String döndürür."
   ]
  },
  {
   "cell_type": "code",
   "execution_count": 7,
   "id": "20e0faaa",
   "metadata": {},
   "outputs": [
    {
     "data": {
      "text/plain": [
       "15"
      ]
     },
     "execution_count": 7,
     "metadata": {},
     "output_type": "execute_result"
    }
   ],
   "source": [
    "int_r = int(r)\n",
    "int_r"
   ]
  },
  {
   "cell_type": "markdown",
   "id": "cd681837",
   "metadata": {},
   "source": [
    "type casting işlemi yaptık."
   ]
  },
  {
   "cell_type": "code",
   "execution_count": 8,
   "id": "7d274e1f",
   "metadata": {},
   "outputs": [],
   "source": [
    "q = 10\n",
    "q = \"A\""
   ]
  },
  {
   "cell_type": "code",
   "execution_count": 9,
   "id": "d7e0ef89",
   "metadata": {},
   "outputs": [
    {
     "data": {
      "text/plain": [
       "'A'"
      ]
     },
     "execution_count": 9,
     "metadata": {},
     "output_type": "execute_result"
    }
   ],
   "source": [
    "q"
   ]
  },
  {
   "cell_type": "markdown",
   "id": "8c239431",
   "metadata": {},
   "source": [
    "Çoğu programlama dilinde string bir değişkeni yine string olan bir değişkenle değiştirebiliriz. Fakat Python'da bu durum esnektir."
   ]
  },
  {
   "cell_type": "code",
   "execution_count": 10,
   "id": "5a2c088a",
   "metadata": {},
   "outputs": [
    {
     "data": {
      "text/plain": [
       "1"
      ]
     },
     "execution_count": 10,
     "metadata": {},
     "output_type": "execute_result"
    }
   ],
   "source": [
    "len(q)"
   ]
  },
  {
   "cell_type": "markdown",
   "id": "79f5dc3d",
   "metadata": {},
   "source": [
    "len ile değişkenin kaçkarakterden oluştuğunu alabiliriz.(Boşluklar dahil)"
   ]
  },
  {
   "cell_type": "code",
   "execution_count": 11,
   "id": "7203017a",
   "metadata": {},
   "outputs": [
    {
     "name": "stdout",
     "output_type": "stream",
     "text": [
      "Hello \n",
      "World\n"
     ]
    }
   ],
   "source": [
    "print(\"Hello \\nWorld\")"
   ]
  },
  {
   "cell_type": "markdown",
   "id": "77f0a9b1",
   "metadata": {},
   "source": [
    "\\n = new line ile yeni bir satıra geçiyoruz."
   ]
  },
  {
   "cell_type": "code",
   "execution_count": 12,
   "id": "20b71c1e",
   "metadata": {},
   "outputs": [],
   "source": [
    "my_bool = True"
   ]
  },
  {
   "cell_type": "markdown",
   "id": "5cb1b443",
   "metadata": {},
   "source": [
    "Boolean tipinde değişken tanımlaması"
   ]
  },
  {
   "cell_type": "code",
   "execution_count": 13,
   "id": "232913a6",
   "metadata": {},
   "outputs": [
    {
     "data": {
      "text/plain": [
       "False"
      ]
     },
     "execution_count": 13,
     "metadata": {},
     "output_type": "execute_result"
    }
   ],
   "source": [
    "10 > 20"
   ]
  },
  {
   "cell_type": "markdown",
   "id": "11a1b2d7",
   "metadata": {},
   "source": [
    "Karşılaştırmayla direkt olarak bir değer alabiliriz."
   ]
  }
 ],
 "metadata": {
  "kernelspec": {
   "display_name": "Python 3 (ipykernel)",
   "language": "python",
   "name": "python3"
  },
  "language_info": {
   "codemirror_mode": {
    "name": "ipython",
    "version": 3
   },
   "file_extension": ".py",
   "mimetype": "text/x-python",
   "name": "python",
   "nbconvert_exporter": "python",
   "pygments_lexer": "ipython3",
   "version": "3.10.9"
  }
 },
 "nbformat": 4,
 "nbformat_minor": 5
}
