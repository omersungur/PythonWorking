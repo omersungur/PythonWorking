{
 "cells": [
  {
   "cell_type": "code",
   "execution_count": 1,
   "id": "c5c34cfb",
   "metadata": {},
   "outputs": [],
   "source": [
    "myList = [1,2,3,4,5]"
   ]
  },
  {
   "cell_type": "code",
   "execution_count": 2,
   "id": "adf2f7c4",
   "metadata": {},
   "outputs": [
    {
     "name": "stdout",
     "output_type": "stream",
     "text": [
      "Hello\n",
      "Hello\n",
      "Hello\n",
      "Hello\n",
      "Hello\n"
     ]
    }
   ],
   "source": [
    "for i in myList:\n",
    "    print(\"Hello\")"
   ]
  },
  {
   "cell_type": "code",
   "execution_count": 3,
   "id": "65d56a63",
   "metadata": {
    "scrolled": true
   },
   "outputs": [
    {
     "name": "stdout",
     "output_type": "stream",
     "text": [
      "2\n",
      "4\n"
     ]
    }
   ],
   "source": [
    "for i in myList:\n",
    "    if i % 2 == 0:\n",
    "        print(i)"
   ]
  },
  {
   "cell_type": "code",
   "execution_count": 4,
   "id": "95ad6f73",
   "metadata": {},
   "outputs": [],
   "source": [
    "myList2 = [(\"a\",\"b\"), (\"c\",\"d\"), (\"e\",\"f\")]"
   ]
  },
  {
   "cell_type": "markdown",
   "id": "5f258096",
   "metadata": {},
   "source": [
    "Liste içinde tuplelardan oluşan bir değişken tanımladık."
   ]
  },
  {
   "cell_type": "code",
   "execution_count": 5,
   "id": "d2e22bb1",
   "metadata": {},
   "outputs": [
    {
     "name": "stdout",
     "output_type": "stream",
     "text": [
      "a\n",
      "c\n",
      "e\n"
     ]
    }
   ],
   "source": [
    "for (x,y) in myList2:\n",
    "    print(x)"
   ]
  },
  {
   "cell_type": "markdown",
   "id": "dd4fde94",
   "metadata": {},
   "source": [
    "for yanında sistemimizi belirtip değişkenin içinde o sistemle gezebiliriz."
   ]
  },
  {
   "cell_type": "code",
   "execution_count": 6,
   "id": "ccb3fedf",
   "metadata": {},
   "outputs": [],
   "source": [
    "my_dictionary = {\"a\": 10, \"b\": 20, \"c\": 30}"
   ]
  },
  {
   "cell_type": "code",
   "execution_count": 7,
   "id": "ed436875",
   "metadata": {},
   "outputs": [
    {
     "name": "stdout",
     "output_type": "stream",
     "text": [
      "keys: a\n",
      "values: 10\n",
      "keys: b\n",
      "values: 20\n",
      "keys: c\n",
      "values: 30\n"
     ]
    }
   ],
   "source": [
    "for (key,value) in my_dictionary.items():\n",
    "    print(\"keys:\" + \" \"+ key)\n",
    "    print(\"values:\" + \" \" + str(value))"
   ]
  },
  {
   "cell_type": "code",
   "execution_count": 8,
   "id": "5e642d17",
   "metadata": {},
   "outputs": [],
   "source": [
    "myList3 = [30,10,20,30,40,50,15]"
   ]
  },
  {
   "cell_type": "code",
   "execution_count": 9,
   "id": "45b57eb8",
   "metadata": {},
   "outputs": [
    {
     "name": "stdout",
     "output_type": "stream",
     "text": [
      "300\n",
      "100\n",
      "200\n",
      "300\n"
     ]
    }
   ],
   "source": [
    "for i in myList3:\n",
    "    if (i > 30):\n",
    "        break\n",
    "    print(i * 10)"
   ]
  },
  {
   "cell_type": "markdown",
   "id": "b6038b4e",
   "metadata": {},
   "source": [
    "i'nin 30'dan büyük olduğu değer için break komutuyla döngüyü sonlandırdık."
   ]
  },
  {
   "cell_type": "code",
   "execution_count": 10,
   "id": "a4b84234",
   "metadata": {},
   "outputs": [
    {
     "name": "stdout",
     "output_type": "stream",
     "text": [
      "300\n",
      "100\n",
      "200\n",
      "300\n",
      "150\n"
     ]
    }
   ],
   "source": [
    "for i in myList3:\n",
    "    if(i > 30):\n",
    "        continue\n",
    "    print(i * 10)"
   ]
  },
  {
   "cell_type": "markdown",
   "id": "69cc24a3",
   "metadata": {},
   "source": [
    "i'nin 30'dan büyük olduğu değerleri atla dedik ve geriye kalan değerler için yazdığımız kodlar çalıştı."
   ]
  },
  {
   "cell_type": "code",
   "execution_count": 11,
   "id": "ecb1c581",
   "metadata": {},
   "outputs": [],
   "source": [
    "for i in myList3:\n",
    "    pass"
   ]
  },
  {
   "cell_type": "markdown",
   "id": "eb58065f",
   "metadata": {},
   "source": [
    "Normalde for döngüsünün içi boş bırakılamaz. Fakat pass ile boş geçebiliriz. Pass komutu çalıştırıldığı yerde, \"hiçbir şey yapma kodun çalışmasına devam et\" talimatı için kullanılır."
   ]
  },
  {
   "cell_type": "code",
   "execution_count": 12,
   "id": "9dc4f182",
   "metadata": {},
   "outputs": [
    {
     "name": "stdout",
     "output_type": "stream",
     "text": [
      "30 is in my list\n",
      "30 is in my list\n",
      "30 is in my list\n",
      "30 is in my list\n",
      "30 is in my list\n",
      "30 is in my list\n",
      "30 is in my list\n"
     ]
    }
   ],
   "source": [
    "while 30 in myList3:\n",
    "    print(\"30 is in my list\")\n",
    "    myList3.pop()"
   ]
  },
  {
   "cell_type": "markdown",
   "id": "3aed484b",
   "metadata": {},
   "source": [
    "myList3 listesi içindeki değerler sondan itibaren teker teker atılıyor. 30 bu listenin içinde var olduğu sürece bu döngü çalışacak."
   ]
  },
  {
   "cell_type": "code",
   "execution_count": 13,
   "id": "ba3782a9",
   "metadata": {},
   "outputs": [],
   "source": [
    "a = 0"
   ]
  },
  {
   "cell_type": "code",
   "execution_count": 14,
   "id": "4da95e88",
   "metadata": {},
   "outputs": [
    {
     "name": "stdout",
     "output_type": "stream",
     "text": [
      "value: 0\n",
      "value: 1\n",
      "value: 2\n",
      "value: 3\n",
      "value: 4\n",
      "value: 5\n",
      "value: 6\n",
      "value: 7\n",
      "value: 8\n",
      "value: 9\n"
     ]
    }
   ],
   "source": [
    "while a < 10:\n",
    "    print(f\"value: {a}\")\n",
    "    a+=1"
   ]
  },
  {
   "cell_type": "markdown",
   "id": "915586b0",
   "metadata": {},
   "source": [
    "Format yazımıyla integer ifadeyi {} içerisinde kullanabiliriz."
   ]
  },
  {
   "cell_type": "code",
   "execution_count": null,
   "id": "33477c79",
   "metadata": {},
   "outputs": [],
   "source": []
  }
 ],
 "metadata": {
  "kernelspec": {
   "display_name": "Python 3 (ipykernel)",
   "language": "python",
   "name": "python3"
  },
  "language_info": {
   "codemirror_mode": {
    "name": "ipython",
    "version": 3
   },
   "file_extension": ".py",
   "mimetype": "text/x-python",
   "name": "python",
   "nbconvert_exporter": "python",
   "pygments_lexer": "ipython3",
   "version": "3.10.9"
  }
 },
 "nbformat": 4,
 "nbformat_minor": 5
}
