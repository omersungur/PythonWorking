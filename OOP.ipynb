{
 "cells": [
  {
   "cell_type": "code",
   "execution_count": 1,
   "id": "5c11b11e",
   "metadata": {},
   "outputs": [],
   "source": [
    "class Musician():\n",
    "    \n",
    "    def __init__(self,name,age):\n",
    "        self.name = name\n",
    "        self.age = age\n",
    "        print(\"Musician1 created\")\n",
    "        \n",
    "    def sing(self):\n",
    "        print(f\" {self.name} is singing\")"
   ]
  },
  {
   "cell_type": "code",
   "execution_count": 2,
   "id": "8d09e1cb",
   "metadata": {},
   "outputs": [
    {
     "name": "stdout",
     "output_type": "stream",
     "text": [
      "Musician1 created\n"
     ]
    }
   ],
   "source": [
    "myMusician = Musician(\"Omer\", 20)"
   ]
  },
  {
   "cell_type": "code",
   "execution_count": 3,
   "id": "fc194743",
   "metadata": {},
   "outputs": [
    {
     "data": {
      "text/plain": [
       "'Omer'"
      ]
     },
     "execution_count": 3,
     "metadata": {},
     "output_type": "execute_result"
    }
   ],
   "source": [
    "myMusician.name"
   ]
  },
  {
   "cell_type": "markdown",
   "id": "4c8e436c",
   "metadata": {},
   "source": [
    "Class oluşturma yapısı"
   ]
  },
  {
   "cell_type": "code",
   "execution_count": 4,
   "id": "60956dac",
   "metadata": {},
   "outputs": [
    {
     "name": "stdout",
     "output_type": "stream",
     "text": [
      " Omer is singing\n"
     ]
    }
   ],
   "source": [
    "myMusician.sing()"
   ]
  },
  {
   "cell_type": "markdown",
   "id": "952d9e6e",
   "metadata": {},
   "source": [
    "self anahtar sözcüğü Musician'a sınıfına referans oluyor."
   ]
  },
  {
   "cell_type": "code",
   "execution_count": 5,
   "id": "391ab93f",
   "metadata": {},
   "outputs": [],
   "source": [
    "class Musician2(Musician):\n",
    "    \n",
    "    def __init__(self,name,age):\n",
    "        Musician.__init__(self,name,age)\n",
    "        print(\"Musician 2\")\n",
    "        \n",
    "    def run(self):\n",
    "        print(\"he is running\")\n",
    "        \n",
    "    def __str__(self):\n",
    "        return f\"{self.name} and {self.age}\""
   ]
  },
  {
   "cell_type": "code",
   "execution_count": 6,
   "id": "5e9a4fe3",
   "metadata": {},
   "outputs": [
    {
     "name": "stdout",
     "output_type": "stream",
     "text": [
      "Musician1 created\n",
      "Musician 2\n"
     ]
    }
   ],
   "source": [
    "myMusician2 = Musician2(\"Ahmet\",30)"
   ]
  },
  {
   "cell_type": "markdown",
   "id": "9d9b9087",
   "metadata": {},
   "source": [
    "Kalıtım."
   ]
  },
  {
   "cell_type": "code",
   "execution_count": 7,
   "id": "e6260b4f",
   "metadata": {
    "scrolled": true
   },
   "outputs": [
    {
     "name": "stdout",
     "output_type": "stream",
     "text": [
      " Ahmet is singing\n"
     ]
    }
   ],
   "source": [
    "myMusician2.sing()"
   ]
  },
  {
   "cell_type": "code",
   "execution_count": 8,
   "id": "79a563e7",
   "metadata": {},
   "outputs": [
    {
     "name": "stdout",
     "output_type": "stream",
     "text": [
      "Ahmet and 30\n"
     ]
    }
   ],
   "source": [
    "print(myMusician2)"
   ]
  },
  {
   "cell_type": "markdown",
   "id": "a8954f8e",
   "metadata": {},
   "source": [
    "str özel metodunu oluşturduk ve artık oluşturuduğumuz instance'ı print içinde yazdırabiliriz."
   ]
  },
  {
   "cell_type": "code",
   "execution_count": 9,
   "id": "e4595eef",
   "metadata": {},
   "outputs": [],
   "source": [
    "def myFunc(sayi):\n",
    "    return sayi + 5"
   ]
  },
  {
   "cell_type": "code",
   "execution_count": 10,
   "id": "ffc756a4",
   "metadata": {},
   "outputs": [
    {
     "name": "stdout",
     "output_type": "stream",
     "text": [
      "Enter a number!\n",
      "finally\n"
     ]
    }
   ],
   "source": [
    "try:\n",
    "    myFunc(\"A\")\n",
    "except:\n",
    "    print(\"Enter a number!\")\n",
    "finally:\n",
    "    print(\"finally\")"
   ]
  },
  {
   "cell_type": "code",
   "execution_count": null,
   "id": "12786896",
   "metadata": {},
   "outputs": [],
   "source": []
  }
 ],
 "metadata": {
  "kernelspec": {
   "display_name": "Python 3 (ipykernel)",
   "language": "python",
   "name": "python3"
  },
  "language_info": {
   "codemirror_mode": {
    "name": "ipython",
    "version": 3
   },
   "file_extension": ".py",
   "mimetype": "text/x-python",
   "name": "python",
   "nbconvert_exporter": "python",
   "pygments_lexer": "ipython3",
   "version": "3.10.9"
  }
 },
 "nbformat": 4,
 "nbformat_minor": 5
}
